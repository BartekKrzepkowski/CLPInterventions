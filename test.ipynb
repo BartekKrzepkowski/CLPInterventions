{
 "cells": [
  {
   "cell_type": "code",
   "execution_count": 1,
   "metadata": {},
   "outputs": [],
   "source": [
    "from typing import Callable, Tuple, List, Any\n",
    "\n",
    "import torch"
   ]
  },
  {
   "cell_type": "code",
   "execution_count": 2,
   "metadata": {},
   "outputs": [],
   "source": [
    "class DualSimpleCNN(torch.nn.Module):\n",
    "    def __init__(self, layers_dim: List[int], wheter_concate: bool = False, pre_mlp_depth: int = 1):\n",
    "        super().__init__()\n",
    "        self.scaling_factor = 2 if wheter_concate else 1\n",
    "        self.net1 = torch.nn.ModuleList([\n",
    "            torch.nn.Sequential(torch.nn.Conv2d(layer_dim1, layer_dim2, 3, padding=1),\n",
    "                                torch.nn.BatchNorm2d(layer_dim2),\n",
    "                                torch.nn.ReLU(),\n",
    "                                torch.nn.Conv2d(layer_dim2, layer_dim2, 3, padding=1),\n",
    "                                torch.nn.BatchNorm2d(layer_dim2),\n",
    "                                torch.nn.ReLU(),\n",
    "                                torch.nn.MaxPool2d(2, 2))\n",
    "            for layer_dim1, layer_dim2 in zip(layers_dim[:-3], layers_dim[1:-2])\n",
    "        ])\n",
    "        self.net2 = torch.nn.ModuleList([\n",
    "            torch.nn.Sequential(torch.nn.Conv2d(layer_dim1, layer_dim2, 3, padding=1),\n",
    "                                torch.nn.BatchNorm2d(layer_dim2),\n",
    "                                torch.nn.ReLU(),\n",
    "                                torch.nn.Conv2d(layer_dim2, layer_dim2, 3, padding=1),\n",
    "                                torch.nn.BatchNorm2d(layer_dim2),\n",
    "                                torch.nn.ReLU(),\n",
    "                                torch.nn.MaxPool2d(2, 2))\n",
    "            for layer_dim1, layer_dim2 in zip(layers_dim[:-3], layers_dim[1:-2])\n",
    "        ])\n",
    "        pre_mlp_channels = layers_dim[-3] * self.scaling_factor\n",
    "        self.net3 = torch.nn.ModuleList([\n",
    "            torch.nn.Sequential(torch.nn.Conv2d(pre_mlp_channels, pre_mlp_channels, 3, padding=1),\n",
    "                                torch.nn.BatchNorm2d(pre_mlp_channels),\n",
    "                                torch.nn.ReLU(),\n",
    "                                torch.nn.Conv2d(pre_mlp_channels, pre_mlp_channels, 3, padding=1),\n",
    "                                torch.nn.BatchNorm2d(pre_mlp_channels),\n",
    "                                torch.nn.ReLU(),\n",
    "                                torch.nn.MaxPool2d(2, 2))\n",
    "            for _ in range(pre_mlp_depth)\n",
    "        ])\n",
    "        flatten_dim = 1024\n",
    "        self.final_layer = torch.nn.Sequential(torch.nn.Linear(flatten_dim, layers_dim[-2]),\n",
    "                                               torch.nn.BatchNorm1d(layers_dim[-2]),\n",
    "                                               torch.nn.ReLU(),\n",
    "                                               torch.nn.Linear(layers_dim[-2], layers_dim[-1]))\n",
    "        \n",
    "    def forward(self, x1, x2):\n",
    "        for block in self.net1:\n",
    "            x1 = block(x1)\n",
    "        for block in self.net2:\n",
    "            x2 = block(x2)\n",
    "        y = torch.cat((x1, x2), dim=1) if self.scaling_factor == 2 else x1 + x2\n",
    "        for block in self.net3:\n",
    "            y = block(y)\n",
    "        y = y.flatten(start_dim=1)\n",
    "        y = self.final_layer(y)\n",
    "        return y"
   ]
  },
  {
   "cell_type": "code",
   "execution_count": null,
   "metadata": {},
   "outputs": [],
   "source": [
    "model = DualSimpleCNN([3, 32, 64, 128, 256, 10], wheter_concate=True, pre_mlp_depth=1)\n",
    "model"
   ]
  },
  {
   "cell_type": "code",
   "execution_count": null,
   "metadata": {},
   "outputs": [],
   "source": [
    "model(torch.randn(2, 3, 32, 32), torch.randn(2, 3, 32, 32)).shape"
   ]
  },
  {
   "cell_type": "code",
   "execution_count": 3,
   "metadata": {},
   "outputs": [],
   "source": [
    "from torchvision.transforms import Compose, ToTensor, Normalize, Resize, RandomAffine, RandomHorizontalFlip\n",
    "from torchvision.transforms import InterpolationMode\n",
    "mean, std = (0.4914, 0.4822, 0.4465), (0.247, 0.243, 0.262)\n",
    "\n",
    "transform_train_proper = Compose([\n",
    "    ToTensor(),\n",
    "    RandomAffine(degrees=0, translate=(1/8, 1/8)),\n",
    "    RandomHorizontalFlip(),\n",
    "    Normalize(mean, std)\n",
    "])\n",
    "\n",
    "transform_train_blurred = Compose([\n",
    "    ToTensor(),\n",
    "    Resize(8, interpolation=InterpolationMode.BILINEAR, antialias=None),\n",
    "    Resize(32, interpolation=InterpolationMode.BILINEAR, antialias=None),\n",
    "    RandomAffine(degrees=0, translate=(1/8, 1/8)),\n",
    "    RandomHorizontalFlip(),\n",
    "    Normalize(mean, std)\n",
    "])"
   ]
  },
  {
   "cell_type": "code",
   "execution_count": 4,
   "metadata": {},
   "outputs": [],
   "source": [
    "import math\n",
    "from torch.utils.data import DataLoader, Dataset\n",
    "\n",
    "class SplitAndAugmentDataset(Dataset):\n",
    "    def __init__(self, dataset, transform1, transform2, overlap=0.5):\n",
    "        self.dataset = dataset\n",
    "        self.transform1 = transform1\n",
    "        self.transform2 = transform2\n",
    "        self.with_overlap = overlap / 2 + 0.5\n",
    "\n",
    "    def __len__(self):\n",
    "        return len(self.dataset)\n",
    "\n",
    "    def __getitem__(self, idx):\n",
    "        image, label = self.dataset[idx]\n",
    "        \n",
    "        # Split the image into two halves\n",
    "        # print(type(image))\n",
    "        width, height = image.size\n",
    "        width_ = math.ceil(width * self.with_overlap)\n",
    "        image1 = image.crop((0, 0, width_, height))\n",
    "        image2 = image.crop((width-width_, 0, width, height))\n",
    "        \n",
    "        print(image1.size, image2.size)\n",
    "        print()\n",
    "\n",
    "        image1 = self.transform1(image1)\n",
    "        image2 = self.transform2(image2)\n",
    "\n",
    "        return image1, image2, label"
   ]
  },
  {
   "cell_type": "code",
   "execution_count": 5,
   "metadata": {},
   "outputs": [
    {
     "name": "stdout",
     "output_type": "stream",
     "text": [
      "Files already downloaded and verified\n"
     ]
    }
   ],
   "source": [
    "import torchvision\n",
    "dataset = torchvision.datasets.CIFAR10(root='./data', train=True, download=True)\n",
    "dataset1 = SplitAndAugmentDataset(dataset, transform_train_proper, transform_train_blurred, overlap=0.05)\n",
    "dataloader = DataLoader(dataset1, batch_size=128, shuffle=True, num_workers=4)"
   ]
  },
  {
   "cell_type": "code",
   "execution_count": null,
   "metadata": {},
   "outputs": [],
   "source": [
    "transform_train_blurred(dataset.data[0]).shape"
   ]
  },
  {
   "cell_type": "code",
   "execution_count": null,
   "metadata": {},
   "outputs": [],
   "source": [
    "a,b,c = dataset1.__getitem__(0)"
   ]
  },
  {
   "cell_type": "code",
   "execution_count": null,
   "metadata": {},
   "outputs": [],
   "source": [
    "a.shape"
   ]
  },
  {
   "cell_type": "code",
   "execution_count": null,
   "metadata": {},
   "outputs": [],
   "source": [
    "b.shape"
   ]
  },
  {
   "cell_type": "code",
   "execution_count": null,
   "metadata": {},
   "outputs": [],
   "source": [
    "a,b,c = dataset1.__getitem__(0)"
   ]
  },
  {
   "cell_type": "code",
   "execution_count": null,
   "metadata": {},
   "outputs": [],
   "source": [
    "a.shape, b.shape"
   ]
  },
  {
   "cell_type": "code",
   "execution_count": null,
   "metadata": {},
   "outputs": [],
   "source": [
    "op1 = Resize((32,8), interpolation=InterpolationMode.BILINEAR, antialias=None)\n",
    "op2 = Resize(32,32), interpolation=InterpolationMode.BILINEAR, antialias=None)"
   ]
  },
  {
   "cell_type": "code",
   "execution_count": null,
   "metadata": {},
   "outputs": [],
   "source": [
    "x = op1(torch.randn(3, 32, 17))\n",
    "y = op2(x)\n",
    "print(x.shape, y.shape)"
   ]
  },
  {
   "cell_type": "code",
   "execution_count": null,
   "metadata": {},
   "outputs": [],
   "source": [
    "op1(torch.randn(3, 32, 17)).shape"
   ]
  },
  {
   "cell_type": "code",
   "execution_count": 10,
   "metadata": {},
   "outputs": [],
   "source": [
    "import numpy as np"
   ]
  },
  {
   "cell_type": "code",
   "execution_count": 12,
   "metadata": {},
   "outputs": [
    {
     "data": {
      "text/plain": [
       "(32, 32, 3)"
      ]
     },
     "execution_count": 12,
     "metadata": {},
     "output_type": "execute_result"
    }
   ],
   "source": [
    "np.asarray(dataset[0][0]).shape"
   ]
  },
  {
   "cell_type": "code",
   "execution_count": 1,
   "metadata": {},
   "outputs": [],
   "source": [
    "from src.utils.utils_trainer import manual_seed, find_paths"
   ]
  },
  {
   "cell_type": "code",
   "execution_count": 10,
   "metadata": {},
   "outputs": [
    {
     "data": {
      "text/plain": [
       "[]"
      ]
     },
     "execution_count": 10,
     "metadata": {},
     "output_type": "execute_result"
    }
   ],
   "source": [
    "list(find_paths('reports'))"
   ]
  },
  {
   "cell_type": "code",
   "execution_count": 3,
   "metadata": {},
   "outputs": [
    {
     "data": {
      "text/plain": [
       "['deficit, sgd, dual_cifar10, dual_simple_cnn_fp_0.0_lr_0.2_wd_0.0_window_0 overlap=0.0, both enabled']"
      ]
     },
     "execution_count": 3,
     "metadata": {},
     "output_type": "execute_result"
    }
   ],
   "source": [
    "import os\n",
    "list(os.listdir('reports'))"
   ]
  },
  {
   "cell_type": "code",
   "execution_count": 4,
   "metadata": {},
   "outputs": [],
   "source": [
    "path = 'reports/deficit, sgd, dual_cifar10, dual_simple_cnn_fp_0.0_lr_0.2_wd_0.0_window_0 overlap=0.0, both enabled'\n",
    "path = os.path.join(os.getcwd(), path)\n",
    "# path"
   ]
  },
  {
   "cell_type": "code",
   "execution_count": 5,
   "metadata": {},
   "outputs": [
    {
     "data": {
      "text/plain": [
       "['model_step_None_window_0.pth']"
      ]
     },
     "execution_count": 5,
     "metadata": {},
     "output_type": "execute_result"
    }
   ],
   "source": [
    "find_paths(path)"
   ]
  },
  {
   "cell_type": "code",
   "execution_count": null,
   "metadata": {},
   "outputs": [],
   "source": []
  }
 ],
 "metadata": {
  "kernelspec": {
   "display_name": "clp_env",
   "language": "python",
   "name": "python3"
  },
  "language_info": {
   "codemirror_mode": {
    "name": "ipython",
    "version": 3
   },
   "file_extension": ".py",
   "mimetype": "text/x-python",
   "name": "python",
   "nbconvert_exporter": "python",
   "pygments_lexer": "ipython3",
   "version": "3.9.16"
  },
  "orig_nbformat": 4
 },
 "nbformat": 4,
 "nbformat_minor": 2
}
